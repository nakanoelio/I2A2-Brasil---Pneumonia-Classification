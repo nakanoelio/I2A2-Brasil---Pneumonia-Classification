{
 "cells": [
  {
   "cell_type": "code",
   "execution_count": 10,
   "metadata": {},
   "outputs": [],
   "source": [
    "import numpy as np\n",
    "import cv2 as cv\n",
    "import os\n",
    "import pandas as pd\n",
    "from tqdm import tqdm"
   ]
  },
  {
   "cell_type": "code",
   "execution_count": 5,
   "metadata": {},
   "outputs": [],
   "source": [
    "path = 'D:/UserFolders/Enak/Documentos/I2A2/Curso 2020/Desafio - Pneumonia Classification/'\n",
    "os.mkdir(path+'newimages/')"
   ]
  },
  {
   "cell_type": "code",
   "execution_count": 6,
   "metadata": {},
   "outputs": [
    {
     "name": "stdout",
     "output_type": "stream",
     "text": [
      "(4099, 2)\n",
      "(1757, 1)\n"
     ]
    }
   ],
   "source": [
    "train_df = pd.read_csv(path+'train.csv')\n",
    "test_df = pd.read_csv(path+'test.csv')\n",
    "print(train_df.shape)\n",
    "print(test_df.shape)"
   ]
  },
  {
   "cell_type": "code",
   "execution_count": 33,
   "metadata": {},
   "outputs": [],
   "source": [
    "def Clahe(imagem):\n",
    "    for i in tqdm(imagem['fileName']):\n",
    "        img = cv.imread(path+'images/'+i,0)\n",
    "        # create a CLAHE object (Arguments are optional).\n",
    "        clahe = cv.createCLAHE(clipLimit=4.0, tileGridSize=(8,8))\n",
    "        cl1 = clahe.apply(img)\n",
    "        cv.imwrite(path+'newimages/'+i,cl1)"
   ]
  },
  {
   "cell_type": "code",
   "execution_count": 34,
   "metadata": {},
   "outputs": [
    {
     "name": "stderr",
     "output_type": "stream",
     "text": [
      "100%|██████████████████████████████████████████████████████████████████████████████| 4099/4099 [03:13<00:00, 21.16it/s]\n"
     ]
    }
   ],
   "source": [
    "Clahe(train_df)"
   ]
  },
  {
   "cell_type": "code",
   "execution_count": 35,
   "metadata": {},
   "outputs": [
    {
     "name": "stderr",
     "output_type": "stream",
     "text": [
      "100%|██████████████████████████████████████████████████████████████████████████████| 1757/1757 [02:26<00:00, 11.97it/s]\n"
     ]
    }
   ],
   "source": [
    "Clahe(test_df)"
   ]
  },
  {
   "cell_type": "code",
   "execution_count": null,
   "metadata": {},
   "outputs": [],
   "source": []
  }
 ],
 "metadata": {
  "kernelspec": {
   "display_name": "Python 3",
   "language": "python",
   "name": "python3"
  },
  "language_info": {
   "codemirror_mode": {
    "name": "ipython",
    "version": 3
   },
   "file_extension": ".py",
   "mimetype": "text/x-python",
   "name": "python",
   "nbconvert_exporter": "python",
   "pygments_lexer": "ipython3",
   "version": "3.7.7"
  }
 },
 "nbformat": 4,
 "nbformat_minor": 4
}
